{
 "cells": [
  {
   "cell_type": "code",
   "execution_count": 5,
   "id": "a65074a0-565b-49d9-86a6-3c3ef2a87e67",
   "metadata": {},
   "outputs": [],
   "source": [
    "#Question 1\n",
    "#A class is a blueprint or a template that defines the characteristics and behaviors of a particular type of object.\n",
    "class shaury:\n",
    "    def __init__(self,phone_no,email,name):\n",
    "        \n",
    "        self.phone_no = phone_no\n",
    "        self.email = email\n",
    "        self.name = name\n",
    "    def return_student_details(self):\n",
    "        return self.name,self.email,self.phone_no"
   ]
  },
  {
   "cell_type": "code",
   "execution_count": 6,
   "id": "84983e4e-6307-47cb-8b6f-847528c123cc",
   "metadata": {},
   "outputs": [],
   "source": [
    "#Question 2\n",
    "#1 -Encapsulation\n",
    "#2 -Inheritance\n",
    "#3 -Polymorphism\n",
    "#4 -Abstraction"
   ]
  },
  {
   "cell_type": "code",
   "execution_count": 7,
   "id": "739f8fb3-51f8-4eeb-917c-d2f71e73f9ad",
   "metadata": {},
   "outputs": [],
   "source": [
    "#Question 3\n",
    "#This method is used to set up the initial state of an object by assigning values to its attributes.\n",
    "class shaury:\n",
    "    def __init__(self,phone_no,email,name):\n",
    "        \n",
    "        self.phone_no = phone_no   \n",
    "        self.email = email\n",
    "        self.name = name"
   ]
  },
  {
   "cell_type": "code",
   "execution_count": 8,
   "id": "c4957543-cd87-455f-a2e1-1bd866441bc2",
   "metadata": {},
   "outputs": [],
   "source": [
    "#Quetion 4\n",
    "#Self refer to the instance of a class within its own methods\n",
    "#self is just a convention, and you can use any other valid\n",
    "#variable name instead"
   ]
  },
  {
   "cell_type": "code",
   "execution_count": 9,
   "id": "65bc6f7b-0c44-46f7-9e6d-0652d3b5c57d",
   "metadata": {},
   "outputs": [],
   "source": [
    "#Question 5\n",
    "#property of parent class can call in child class is called  inheritance\n",
    "# There are main three type of  inheritance\n",
    "#1-Single inheritance\n",
    "class test:\n",
    "    def test_match(self):\n",
    "        return \"this is gangcholi ki rama\""
   ]
  },
  {
   "cell_type": "code",
   "execution_count": 10,
   "id": "37d4f4f5-0228-4658-a81c-f82d14848cd6",
   "metadata": {},
   "outputs": [],
   "source": [
    "class child_test(test):\n",
    "    pass"
   ]
  },
  {
   "cell_type": "code",
   "execution_count": 11,
   "id": "ef5ec5a1-b909-4339-ad7f-afced8cc03a2",
   "metadata": {},
   "outputs": [],
   "source": [
    "create_new_ob= child_test()"
   ]
  },
  {
   "cell_type": "code",
   "execution_count": 12,
   "id": "f38e9f65-3b69-4ab8-bf1a-ac4c68f92e5a",
   "metadata": {},
   "outputs": [
    {
     "data": {
      "text/plain": [
       "'this is gangcholi ki rama'"
      ]
     },
     "execution_count": 12,
     "metadata": {},
     "output_type": "execute_result"
    }
   ],
   "source": [
    "create_new_ob.test_match()"
   ]
  },
  {
   "cell_type": "code",
   "execution_count": 13,
   "id": "fb56af78-48eb-4e71-adb7-2d210f13766f",
   "metadata": {},
   "outputs": [],
   "source": [
    "#2 multilevel inheritance\n",
    "class class1:\n",
    "    def test_return(self):\n",
    "        return \"i am gangcholi ki rama\""
   ]
  },
  {
   "cell_type": "code",
   "execution_count": 14,
   "id": "a16242b4-e065-46c6-b610-6a2499be1ba7",
   "metadata": {},
   "outputs": [],
   "source": [
    "class class2(class1):  \n",
    "    def test_return1(self):\n",
    "        return \"rama from orangabad\""
   ]
  },
  {
   "cell_type": "code",
   "execution_count": 16,
   "id": "02d1f13a-bea5-49ee-bc74-bbc2943906d1",
   "metadata": {},
   "outputs": [],
   "source": [
    "class class3(class2):\n",
    "    def test_return2(self):\n",
    "        return \"rama from ganggung wala\""
   ]
  },
  {
   "cell_type": "code",
   "execution_count": 17,
   "id": "7881e5c3-f93e-4fd8-b824-3fe35070e655",
   "metadata": {},
   "outputs": [],
   "source": [
    "class class4(class3):   #this is multilevel inhheritance \n",
    "    pass"
   ]
  },
  {
   "cell_type": "code",
   "execution_count": 18,
   "id": "d55e079d-555e-4000-8d06-363547735cfd",
   "metadata": {},
   "outputs": [],
   "source": [
    "#3 multiple inheritance\n",
    "class class1:\n",
    "    def rama(self):\n",
    "        return \"rama from fethaabaad\""
   ]
  },
  {
   "cell_type": "code",
   "execution_count": 19,
   "id": "4ad5468d-e6f1-4f72-a8b1-e16232db386f",
   "metadata": {},
   "outputs": [],
   "source": [
    "class class2:\n",
    "    def rama1(self):\n",
    "        return \"rama from raipur\"\n",
    "        "
   ]
  },
  {
   "cell_type": "code",
   "execution_count": 20,
   "id": "c8a4b823-198c-40a1-bb56-b1af49817cce",
   "metadata": {},
   "outputs": [],
   "source": [
    "class class3(class2,class1):    #this is multipal inhertiance\n",
    "    pass"
   ]
  },
  {
   "cell_type": "code",
   "execution_count": null,
   "id": "6cac9560-e34d-4f9e-ad07-a2c27d6322a2",
   "metadata": {},
   "outputs": [],
   "source": []
  }
 ],
 "metadata": {
  "kernelspec": {
   "display_name": "Python 3 (ipykernel)",
   "language": "python",
   "name": "python3"
  },
  "language_info": {
   "codemirror_mode": {
    "name": "ipython",
    "version": 3
   },
   "file_extension": ".py",
   "mimetype": "text/x-python",
   "name": "python",
   "nbconvert_exporter": "python",
   "pygments_lexer": "ipython3",
   "version": "3.11.3"
  }
 },
 "nbformat": 4,
 "nbformat_minor": 5
}
